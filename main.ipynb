{
 "cells": [
  {
   "cell_type": "code",
   "execution_count": 3,
   "metadata": {},
   "outputs": [],
   "source": [
    "import pandas as pd\n",
    "import random"
   ]
  },
  {
   "cell_type": "code",
   "execution_count": 4,
   "metadata": {},
   "outputs": [
    {
     "data": {
      "text/html": [
       "<div>\n",
       "<style scoped>\n",
       "    .dataframe tbody tr th:only-of-type {\n",
       "        vertical-align: middle;\n",
       "    }\n",
       "\n",
       "    .dataframe tbody tr th {\n",
       "        vertical-align: top;\n",
       "    }\n",
       "\n",
       "    .dataframe thead th {\n",
       "        text-align: right;\n",
       "    }\n",
       "</style>\n",
       "<table border=\"1\" class=\"dataframe\">\n",
       "  <thead>\n",
       "    <tr style=\"text-align: right;\">\n",
       "      <th></th>\n",
       "      <th>Carimbo de data/hora</th>\n",
       "      <th>Qual seu nome de usuário no servidor Discord Matemática como Hobby?</th>\n",
       "      <th>Qual seu nome de usuário no Instagram?</th>\n",
       "      <th>Qual seu nome de usuário no YouTube?</th>\n",
       "    </tr>\n",
       "  </thead>\n",
       "  <tbody>\n",
       "    <tr>\n",
       "      <th>0</th>\n",
       "      <td>14/05/2025 11:04:46</td>\n",
       "      <td>Thanone</td>\n",
       "      <td>Sathanone</td>\n",
       "      <td>.danoninho</td>\n",
       "    </tr>\n",
       "    <tr>\n",
       "      <th>1</th>\n",
       "      <td>14/05/2025 11:06:20</td>\n",
       "      <td>@darkhatsu</td>\n",
       "      <td>@lipemali</td>\n",
       "      <td>@felipemalicheski</td>\n",
       "    </tr>\n",
       "    <tr>\n",
       "      <th>2</th>\n",
       "      <td>14/05/2025 11:06:27</td>\n",
       "      <td>Bruno Queiroz | brunogsq</td>\n",
       "      <td>brunogsq</td>\n",
       "      <td>@gsqbruno</td>\n",
       "    </tr>\n",
       "    <tr>\n",
       "      <th>3</th>\n",
       "      <td>14/05/2025 11:06:33</td>\n",
       "      <td>Pedrim</td>\n",
       "      <td>Pedro Gabriel da Cruz (@_pedro_g_c)</td>\n",
       "      <td>Pedro Gabriel da Cruz (@pedrogabrieldacruz3009)</td>\n",
       "    </tr>\n",
       "    <tr>\n",
       "      <th>4</th>\n",
       "      <td>14/05/2025 11:11:25</td>\n",
       "      <td>Ghetti</td>\n",
       "      <td>gabriel_ghetti</td>\n",
       "      <td>Gabriel Ferreira</td>\n",
       "    </tr>\n",
       "  </tbody>\n",
       "</table>\n",
       "</div>"
      ],
      "text/plain": [
       "  Carimbo de data/hora  \\\n",
       "0  14/05/2025 11:04:46   \n",
       "1  14/05/2025 11:06:20   \n",
       "2  14/05/2025 11:06:27   \n",
       "3  14/05/2025 11:06:33   \n",
       "4  14/05/2025 11:11:25   \n",
       "\n",
       "  Qual seu nome de usuário no servidor Discord Matemática como Hobby?  \\\n",
       "0                                            Thanone                    \n",
       "1                                         @darkhatsu                    \n",
       "2                          Bruno Queiroz | brunogsq                     \n",
       "3                                             Pedrim                    \n",
       "4                                             Ghetti                    \n",
       "\n",
       "  Qual seu nome de usuário no Instagram?  \\\n",
       "0                              Sathanone   \n",
       "1                              @lipemali   \n",
       "2                               brunogsq   \n",
       "3    Pedro Gabriel da Cruz (@_pedro_g_c)   \n",
       "4                         gabriel_ghetti   \n",
       "\n",
       "              Qual seu nome de usuário no YouTube?  \n",
       "0                                       .danoninho  \n",
       "1                                @felipemalicheski  \n",
       "2                                        @gsqbruno  \n",
       "3  Pedro Gabriel da Cruz (@pedrogabrieldacruz3009)  \n",
       "4                                Gabriel Ferreira   "
      ]
     },
     "execution_count": 4,
     "metadata": {},
     "output_type": "execute_result"
    }
   ],
   "source": [
    "df = pd.read_csv(\"Sorteio dos Livros do Titu (respostas) - Respostas ao formulário 1.csv\")\n",
    "df.head()"
   ]
  },
  {
   "cell_type": "code",
   "execution_count": 6,
   "metadata": {},
   "outputs": [
    {
     "data": {
      "text/plain": [
       "0       Thanone\n",
       "1    @darkhatsu\n",
       "Name: Qual seu nome de usuário no servidor Discord Matemática como Hobby?, dtype: object"
      ]
     },
     "execution_count": 6,
     "metadata": {},
     "output_type": "execute_result"
    }
   ],
   "source": [
    "column_discord = \"Qual seu nome de usuário no servidor Discord Matemática como Hobby?\"\n",
    "user_names = df[column_discord].dropna().str.strip()\n",
    "user_names[:2]"
   ]
  },
  {
   "cell_type": "code",
   "execution_count": 10,
   "metadata": {},
   "outputs": [
    {
     "data": {
      "text/html": [
       "<div>\n",
       "<style scoped>\n",
       "    .dataframe tbody tr th:only-of-type {\n",
       "        vertical-align: middle;\n",
       "    }\n",
       "\n",
       "    .dataframe tbody tr th {\n",
       "        vertical-align: top;\n",
       "    }\n",
       "\n",
       "    .dataframe thead th {\n",
       "        text-align: right;\n",
       "    }\n",
       "</style>\n",
       "<table border=\"1\" class=\"dataframe\">\n",
       "  <thead>\n",
       "    <tr style=\"text-align: right;\">\n",
       "      <th></th>\n",
       "      <th>Carimbo de data/hora</th>\n",
       "      <th>Qual seu nome de usuário no servidor Discord Matemática como Hobby?</th>\n",
       "      <th>Qual seu nome de usuário no Instagram?</th>\n",
       "      <th>Qual seu nome de usuário no YouTube?</th>\n",
       "    </tr>\n",
       "  </thead>\n",
       "  <tbody>\n",
       "    <tr>\n",
       "      <th>171</th>\n",
       "      <td>25/05/2025 19:59:40</td>\n",
       "      <td>\\sum Márcio</td>\n",
       "      <td>Cantelmo_.bc</td>\n",
       "      <td>Falsomatematico</td>\n",
       "    </tr>\n",
       "  </tbody>\n",
       "</table>\n",
       "</div>"
      ],
      "text/plain": [
       "    Carimbo de data/hora  \\\n",
       "171  25/05/2025 19:59:40   \n",
       "\n",
       "    Qual seu nome de usuário no servidor Discord Matemática como Hobby?  \\\n",
       "171                                       \\sum Márcio                     \n",
       "\n",
       "    Qual seu nome de usuário no Instagram?  \\\n",
       "171                           Cantelmo_.bc   \n",
       "\n",
       "    Qual seu nome de usuário no YouTube?  \n",
       "171                      Falsomatematico  "
      ]
     },
     "execution_count": 10,
     "metadata": {},
     "output_type": "execute_result"
    }
   ],
   "source": [
    "winner = random.choice(user_names.tolist())\n",
    "df[df[column_discord].str.strip() == winner]"
   ]
  }
 ],
 "metadata": {
  "kernelspec": {
   "display_name": "Python 3",
   "language": "python",
   "name": "python3"
  },
  "language_info": {
   "codemirror_mode": {
    "name": "ipython",
    "version": 3
   },
   "file_extension": ".py",
   "mimetype": "text/x-python",
   "name": "python",
   "nbconvert_exporter": "python",
   "pygments_lexer": "ipython3",
   "version": "3.10.12"
  }
 },
 "nbformat": 4,
 "nbformat_minor": 2
}
